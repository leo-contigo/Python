{
  "nbformat": 4,
  "nbformat_minor": 0,
  "metadata": {
    "colab": {
      "provenance": [],
      "authorship_tag": "ABX9TyPzRz/c3dVk/qOdF1Zq/hkc"
    },
    "kernelspec": {
      "name": "python3",
      "display_name": "Python 3"
    },
    "language_info": {
      "name": "python"
    }
  },
  "cells": [
    {
      "cell_type": "markdown",
      "source": [
        "# 챗GPT 활용하여 얼굴 표정 감정 인식하기\n",
        "\n",
        "- 참고 유튜브 [김왼손의 왼손코딩](https://youtu.be/sOlkThcyrA8?feature=shared)"
      ],
      "metadata": {
        "id": "1pXRp_FOZoqj"
      }
    },
    {
      "cell_type": "markdown",
      "source": [
        "# 사진 속 사람의 얼굴 표정으로 감정을 인식하는 파이썬 프로그램을 만들고 싶다.\n",
        "- 사용법이 쉬운 파이썬 패키지 3개를 장단점과 함께 소개해 달라고 요청함"
      ],
      "metadata": {
        "id": "6OcCA9iTcN9G"
      }
    },
    {
      "cell_type": "markdown",
      "source": [
        "얼굴 표정을 감지하고 감정을 인식하는 파이썬 패키지 중 몇 가지를 소개하겠습니다.<br>이 패키지들은 얼굴 감지 및 감정 분석을 위해 사용됩니다.\n",
        "\n",
        "### 1. OpenCV (Open Source Computer Vision Library)\n",
        "\n",
        "장점:\n",
        "강력하고 안정적인 오픈소스 라이브러리로, 컴퓨터 비전 작업에 폭넓게 사용됩니다.\n",
        "얼굴 감지에 사용할 수 있는 기능이 풍부하며, 감정 인식에도 적용 가능합니다.\n",
        "C++로 개발되었지만 Python에서도 사용 가능하며, 다양한 플랫폼에서 지원됩니다.<br>\n",
        "단점:\n",
        "감정 분석에 특화된 기능은 없습니다.\n",
        "높은 수준의 추상화가 부족할 수 있어 초보자에게는 어려울 수 있습니다.\n",
        "<br>\n",
        "### 2.Dlib\n",
        "\n",
        "장점:\n",
        "얼굴 감지, 특징점 추출, 얼굴 감정 분석 등 다양한 작업에 사용됩니다.\n",
        "효과적인 얼굴 포인트 검출과 높은 정확도의 감정 분석이 가능합니다.\n",
        "C++로 개발되었지만 Python에서도 사용 가능합니다.<br>\n",
        "단점:\n",
        "복잡한 설치 프로세스가 있을 수 있습니다.\n",
        "일부 사용자에게는 상대적으로 적은 문서와 예제가 있을 수 있습니다.\n",
        "<br>\n",
        "### 3.face_recognition\n",
        "\n",
        "장점:\n",
        "사용하기 간편하고, 빠르게 얼굴을 감지하고 특징점을 찾을 수 있는 높은 수준의 추상화를 제공합니다.\n",
        "Dlib 기반으로 만들어져 있어 높은 정확성을 가집니다.<br>\n",
        "단점:\n",
        "감정 분석에 대한 내장 지원이 부족하므로, 추가 구현이 필요할 수 있습니다.\n",
        "<br>\n",
        "\n",
        "### **선택한 패키지: face_recognition**\n",
        "\n",
        "이유:\n",
        "초보자가 사용하기 간편하며, 높은 수준의 추상화로 얼굴 감지와 특징점 추출이 쉽게 이루어집니다.\n",
        "감정 분석에 대한 추가 구현이 필요할 수 있지만, 얼굴 감지와 특징점 추출 자체가 매우 효과적입니다.<br>\n",
        "Dlib을 기반으로 하여 높은 정확성을 유지합니다.<br>\n",
        "초보자에게는 face_recognition 패키지가 사용하기 쉽고, 간단한 얼굴 감지 및 특징점 추출 작업을 수행하는 데 적합합니다. Face_recognition은 많은 예제와 문서를 가지고 있어 초보자가 시작하기에 좋은 선택입니다.\n",
        "\n",
        "\n",
        "\n",
        "\n",
        "\n",
        "\n"
      ],
      "metadata": {
        "id": "b4MzhkFHaQp1"
      }
    },
    {
      "cell_type": "markdown",
      "source": [
        "**강좌에서 선택한 패키지와 나의 패키지 결과가 다름.....\n",
        "당황스럽다.....**"
      ],
      "metadata": {
        "id": "oJfSUtwwcmvA"
      }
    },
    {
      "cell_type": "markdown",
      "source": [
        "# face_recognition에서 가장 많이 사용되는 함수 5개 알려달라고 요청함."
      ],
      "metadata": {
        "id": "ki__zHsOcDsk"
      }
    },
    {
      "cell_type": "markdown",
      "source": [
        "face_recognition 라이브러리에서 가장 많이 사용되는 함수 5개를 아래에 소개하겠습니다. 이 함수들은 얼굴 감지, 특징점 추출, 얼굴 인식 등에 사용됩니다.\n",
        "\n",
        "1. **face_recognition.load_image_file(file_path)**\n",
        "\n",
        "    설명: 파일 경로에서 이미지를 로드합니다.<br>\n",
        "예시 코드:\n",
        "\n",
        "        import face_recognition\n",
        "        # 이미지 파일 로드\n",
        "        image = face_recognition.load_image_file(\"path/to/image.jpg\")\n",
        "\n",
        "2. **face_recognition.face_locations(image, model=\"hog\")**\n",
        "\n",
        "    설명: 이미지에서 얼굴의 위치를 찾습니다.<br>\n",
        "예시 코드:\n",
        "        import face_recognition\n",
        "        # 얼굴 위치 찾기\n",
        "        face_locations = face_recognition.face_locations(image, model=\"hog\")\n",
        "3. **face_recognition.face_landmarks(image)**\n",
        "\n",
        "    설명: 이미지에서 얼굴의 주요 특징점(landmarks)을 찾습니다.<br>\n",
        "예시 코드:\n",
        "        import face_recognition\n",
        "        # 얼굴의 특징점 찾기\n",
        "        face_landmarks = face_recognition.face_landmarks(image)\n",
        "4. **face_recognition.face_encodings(image, known_face_locations=None, num_jitters=1)**\n",
        "\n",
        "    설명: 이미지에서 얼굴의 임베딩을 추출합니다. 임베딩은 얼굴을 고유하게 나타내는 벡터입니다.<br>\n",
        "예시 코드:\n",
        "\n",
        "        import face_recognition\n",
        "        # 얼굴 임베딩 추출\n",
        "        face_encodings = face_recognition.face_encodings(image)\n",
        "5. **face_recognition.compare_faces(known_face_encodings, face_encoding_to_check, tolerance=0.6)**\n",
        "\n",
        "    설명: 두 얼굴 임베딩 간의 일치 여부를 확인합니다.<br>\n",
        "예시 코드:\n",
        "        import face_recognition\n",
        "        # 얼굴 일치 여부 확인\n",
        "        result = face_recognition.compare_faces([face_encoding_1, face_encoding_2], face_encoding_to_check)\n"
      ],
      "metadata": {
        "id": "cW6poIYAbHot"
      }
    },
    {
      "cell_type": "markdown",
      "source": [
        "## face_recognition은 감정을 인식하는 것이 아닌 얼굴을 인식하는거라고 함.\n",
        "## 그래서 다시 추천받은 DeepFace를 활용하기로 함"
      ],
      "metadata": {
        "id": "CWBVhxylJ5lT"
      }
    },
    {
      "cell_type": "markdown",
      "source": [
        "![image.png](data:image/png;base64,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)"
      ],
      "metadata": {
        "id": "WijB-mODKLPR"
      }
    },
    {
      "cell_type": "markdown",
      "source": [
        "\n",
        "\n",
        "---\n",
        "\n"
      ],
      "metadata": {
        "id": "Ib-YQcUOKgd7"
      }
    },
    {
      "cell_type": "code",
      "execution_count": 3,
      "metadata": {
        "colab": {
          "base_uri": "https://localhost:8080/"
        },
        "id": "VbzyM-yFZkbW",
        "outputId": "14f5ea83-3d05-4342-987f-b591e6cae6e9"
      },
      "outputs": [
        {
          "output_type": "stream",
          "name": "stdout",
          "text": [
            "Collecting DeepFace\n",
            "  Downloading deepface-0.0.85-py3-none-any.whl (85 kB)\n",
            "\u001b[2K     \u001b[90m━━━━━━━━━━━━━━━━━━━━━━━━━━━━━━━━━━━━━━━━\u001b[0m \u001b[32m85.9/85.9 kB\u001b[0m \u001b[31m1.1 MB/s\u001b[0m eta \u001b[36m0:00:00\u001b[0m\n",
            "\u001b[?25hRequirement already satisfied: numpy>=1.14.0 in /usr/local/lib/python3.10/dist-packages (from DeepFace) (1.25.2)\n",
            "Requirement already satisfied: pandas>=0.23.4 in /usr/local/lib/python3.10/dist-packages (from DeepFace) (1.5.3)\n",
            "Requirement already satisfied: gdown>=3.10.1 in /usr/local/lib/python3.10/dist-packages (from DeepFace) (4.7.3)\n",
            "Requirement already satisfied: tqdm>=4.30.0 in /usr/local/lib/python3.10/dist-packages (from DeepFace) (4.66.2)\n",
            "Requirement already satisfied: Pillow>=5.2.0 in /usr/local/lib/python3.10/dist-packages (from DeepFace) (9.4.0)\n",
            "Requirement already satisfied: opencv-python>=4.5.5.64 in /usr/local/lib/python3.10/dist-packages (from DeepFace) (4.8.0.76)\n",
            "Requirement already satisfied: tensorflow>=1.9.0 in /usr/local/lib/python3.10/dist-packages (from DeepFace) (2.15.0)\n",
            "Requirement already satisfied: keras>=2.2.0 in /usr/local/lib/python3.10/dist-packages (from DeepFace) (2.15.0)\n",
            "Requirement already satisfied: Flask>=1.1.2 in /usr/local/lib/python3.10/dist-packages (from DeepFace) (2.2.5)\n",
            "Collecting mtcnn>=0.1.0 (from DeepFace)\n",
            "  Downloading mtcnn-0.1.1-py3-none-any.whl (2.3 MB)\n",
            "\u001b[2K     \u001b[90m━━━━━━━━━━━━━━━━━━━━━━━━━━━━━━━━━━━━━━━━\u001b[0m \u001b[32m2.3/2.3 MB\u001b[0m \u001b[31m12.0 MB/s\u001b[0m eta \u001b[36m0:00:00\u001b[0m\n",
            "\u001b[?25hCollecting retina-face>=0.0.1 (from DeepFace)\n",
            "  Downloading retina_face-0.0.14-py3-none-any.whl (23 kB)\n",
            "Collecting fire>=0.4.0 (from DeepFace)\n",
            "  Downloading fire-0.5.0.tar.gz (88 kB)\n",
            "\u001b[2K     \u001b[90m━━━━━━━━━━━━━━━━━━━━━━━━━━━━━━━━━━━━━━━━\u001b[0m \u001b[32m88.3/88.3 kB\u001b[0m \u001b[31m9.0 MB/s\u001b[0m eta \u001b[36m0:00:00\u001b[0m\n",
            "\u001b[?25h  Preparing metadata (setup.py) ... \u001b[?25l\u001b[?25hdone\n",
            "Collecting gunicorn>=20.1.0 (from DeepFace)\n",
            "  Downloading gunicorn-21.2.0-py3-none-any.whl (80 kB)\n",
            "\u001b[2K     \u001b[90m━━━━━━━━━━━━━━━━━━━━━━━━━━━━━━━━━━━━━━━━\u001b[0m \u001b[32m80.2/80.2 kB\u001b[0m \u001b[31m8.1 MB/s\u001b[0m eta \u001b[36m0:00:00\u001b[0m\n",
            "\u001b[?25hRequirement already satisfied: six in /usr/local/lib/python3.10/dist-packages (from fire>=0.4.0->DeepFace) (1.16.0)\n",
            "Requirement already satisfied: termcolor in /usr/local/lib/python3.10/dist-packages (from fire>=0.4.0->DeepFace) (2.4.0)\n",
            "Requirement already satisfied: Werkzeug>=2.2.2 in /usr/local/lib/python3.10/dist-packages (from Flask>=1.1.2->DeepFace) (3.0.1)\n",
            "Requirement already satisfied: Jinja2>=3.0 in /usr/local/lib/python3.10/dist-packages (from Flask>=1.1.2->DeepFace) (3.1.3)\n",
            "Requirement already satisfied: itsdangerous>=2.0 in /usr/local/lib/python3.10/dist-packages (from Flask>=1.1.2->DeepFace) (2.1.2)\n",
            "Requirement already satisfied: click>=8.0 in /usr/local/lib/python3.10/dist-packages (from Flask>=1.1.2->DeepFace) (8.1.7)\n",
            "Requirement already satisfied: filelock in /usr/local/lib/python3.10/dist-packages (from gdown>=3.10.1->DeepFace) (3.13.1)\n",
            "Requirement already satisfied: requests[socks] in /usr/local/lib/python3.10/dist-packages (from gdown>=3.10.1->DeepFace) (2.31.0)\n",
            "Requirement already satisfied: beautifulsoup4 in /usr/local/lib/python3.10/dist-packages (from gdown>=3.10.1->DeepFace) (4.12.3)\n",
            "Requirement already satisfied: packaging in /usr/local/lib/python3.10/dist-packages (from gunicorn>=20.1.0->DeepFace) (23.2)\n",
            "Requirement already satisfied: python-dateutil>=2.8.1 in /usr/local/lib/python3.10/dist-packages (from pandas>=0.23.4->DeepFace) (2.8.2)\n",
            "Requirement already satisfied: pytz>=2020.1 in /usr/local/lib/python3.10/dist-packages (from pandas>=0.23.4->DeepFace) (2023.4)\n",
            "Requirement already satisfied: absl-py>=1.0.0 in /usr/local/lib/python3.10/dist-packages (from tensorflow>=1.9.0->DeepFace) (1.4.0)\n",
            "Requirement already satisfied: astunparse>=1.6.0 in /usr/local/lib/python3.10/dist-packages (from tensorflow>=1.9.0->DeepFace) (1.6.3)\n",
            "Requirement already satisfied: flatbuffers>=23.5.26 in /usr/local/lib/python3.10/dist-packages (from tensorflow>=1.9.0->DeepFace) (23.5.26)\n",
            "Requirement already satisfied: gast!=0.5.0,!=0.5.1,!=0.5.2,>=0.2.1 in /usr/local/lib/python3.10/dist-packages (from tensorflow>=1.9.0->DeepFace) (0.5.4)\n",
            "Requirement already satisfied: google-pasta>=0.1.1 in /usr/local/lib/python3.10/dist-packages (from tensorflow>=1.9.0->DeepFace) (0.2.0)\n",
            "Requirement already satisfied: h5py>=2.9.0 in /usr/local/lib/python3.10/dist-packages (from tensorflow>=1.9.0->DeepFace) (3.9.0)\n",
            "Requirement already satisfied: libclang>=13.0.0 in /usr/local/lib/python3.10/dist-packages (from tensorflow>=1.9.0->DeepFace) (16.0.6)\n",
            "Requirement already satisfied: ml-dtypes~=0.2.0 in /usr/local/lib/python3.10/dist-packages (from tensorflow>=1.9.0->DeepFace) (0.2.0)\n",
            "Requirement already satisfied: opt-einsum>=2.3.2 in /usr/local/lib/python3.10/dist-packages (from tensorflow>=1.9.0->DeepFace) (3.3.0)\n",
            "Requirement already satisfied: protobuf!=4.21.0,!=4.21.1,!=4.21.2,!=4.21.3,!=4.21.4,!=4.21.5,<5.0.0dev,>=3.20.3 in /usr/local/lib/python3.10/dist-packages (from tensorflow>=1.9.0->DeepFace) (3.20.3)\n",
            "Requirement already satisfied: setuptools in /usr/local/lib/python3.10/dist-packages (from tensorflow>=1.9.0->DeepFace) (67.7.2)\n",
            "Requirement already satisfied: typing-extensions>=3.6.6 in /usr/local/lib/python3.10/dist-packages (from tensorflow>=1.9.0->DeepFace) (4.10.0)\n",
            "Requirement already satisfied: wrapt<1.15,>=1.11.0 in /usr/local/lib/python3.10/dist-packages (from tensorflow>=1.9.0->DeepFace) (1.14.1)\n",
            "Requirement already satisfied: tensorflow-io-gcs-filesystem>=0.23.1 in /usr/local/lib/python3.10/dist-packages (from tensorflow>=1.9.0->DeepFace) (0.36.0)\n",
            "Requirement already satisfied: grpcio<2.0,>=1.24.3 in /usr/local/lib/python3.10/dist-packages (from tensorflow>=1.9.0->DeepFace) (1.62.0)\n",
            "Requirement already satisfied: tensorboard<2.16,>=2.15 in /usr/local/lib/python3.10/dist-packages (from tensorflow>=1.9.0->DeepFace) (2.15.2)\n",
            "Requirement already satisfied: tensorflow-estimator<2.16,>=2.15.0 in /usr/local/lib/python3.10/dist-packages (from tensorflow>=1.9.0->DeepFace) (2.15.0)\n",
            "Requirement already satisfied: wheel<1.0,>=0.23.0 in /usr/local/lib/python3.10/dist-packages (from astunparse>=1.6.0->tensorflow>=1.9.0->DeepFace) (0.42.0)\n",
            "Requirement already satisfied: MarkupSafe>=2.0 in /usr/local/lib/python3.10/dist-packages (from Jinja2>=3.0->Flask>=1.1.2->DeepFace) (2.1.5)\n",
            "Requirement already satisfied: google-auth<3,>=1.6.3 in /usr/local/lib/python3.10/dist-packages (from tensorboard<2.16,>=2.15->tensorflow>=1.9.0->DeepFace) (2.27.0)\n",
            "Requirement already satisfied: google-auth-oauthlib<2,>=0.5 in /usr/local/lib/python3.10/dist-packages (from tensorboard<2.16,>=2.15->tensorflow>=1.9.0->DeepFace) (1.2.0)\n",
            "Requirement already satisfied: markdown>=2.6.8 in /usr/local/lib/python3.10/dist-packages (from tensorboard<2.16,>=2.15->tensorflow>=1.9.0->DeepFace) (3.5.2)\n",
            "Requirement already satisfied: tensorboard-data-server<0.8.0,>=0.7.0 in /usr/local/lib/python3.10/dist-packages (from tensorboard<2.16,>=2.15->tensorflow>=1.9.0->DeepFace) (0.7.2)\n",
            "Requirement already satisfied: soupsieve>1.2 in /usr/local/lib/python3.10/dist-packages (from beautifulsoup4->gdown>=3.10.1->DeepFace) (2.5)\n",
            "Requirement already satisfied: charset-normalizer<4,>=2 in /usr/local/lib/python3.10/dist-packages (from requests[socks]->gdown>=3.10.1->DeepFace) (3.3.2)\n",
            "Requirement already satisfied: idna<4,>=2.5 in /usr/local/lib/python3.10/dist-packages (from requests[socks]->gdown>=3.10.1->DeepFace) (3.6)\n",
            "Requirement already satisfied: urllib3<3,>=1.21.1 in /usr/local/lib/python3.10/dist-packages (from requests[socks]->gdown>=3.10.1->DeepFace) (2.0.7)\n",
            "Requirement already satisfied: certifi>=2017.4.17 in /usr/local/lib/python3.10/dist-packages (from requests[socks]->gdown>=3.10.1->DeepFace) (2024.2.2)\n",
            "Requirement already satisfied: PySocks!=1.5.7,>=1.5.6 in /usr/local/lib/python3.10/dist-packages (from requests[socks]->gdown>=3.10.1->DeepFace) (1.7.1)\n",
            "Requirement already satisfied: cachetools<6.0,>=2.0.0 in /usr/local/lib/python3.10/dist-packages (from google-auth<3,>=1.6.3->tensorboard<2.16,>=2.15->tensorflow>=1.9.0->DeepFace) (5.3.3)\n",
            "Requirement already satisfied: pyasn1-modules>=0.2.1 in /usr/local/lib/python3.10/dist-packages (from google-auth<3,>=1.6.3->tensorboard<2.16,>=2.15->tensorflow>=1.9.0->DeepFace) (0.3.0)\n",
            "Requirement already satisfied: rsa<5,>=3.1.4 in /usr/local/lib/python3.10/dist-packages (from google-auth<3,>=1.6.3->tensorboard<2.16,>=2.15->tensorflow>=1.9.0->DeepFace) (4.9)\n",
            "Requirement already satisfied: requests-oauthlib>=0.7.0 in /usr/local/lib/python3.10/dist-packages (from google-auth-oauthlib<2,>=0.5->tensorboard<2.16,>=2.15->tensorflow>=1.9.0->DeepFace) (1.3.1)\n",
            "Requirement already satisfied: pyasn1<0.6.0,>=0.4.6 in /usr/local/lib/python3.10/dist-packages (from pyasn1-modules>=0.2.1->google-auth<3,>=1.6.3->tensorboard<2.16,>=2.15->tensorflow>=1.9.0->DeepFace) (0.5.1)\n",
            "Requirement already satisfied: oauthlib>=3.0.0 in /usr/local/lib/python3.10/dist-packages (from requests-oauthlib>=0.7.0->google-auth-oauthlib<2,>=0.5->tensorboard<2.16,>=2.15->tensorflow>=1.9.0->DeepFace) (3.2.2)\n",
            "Building wheels for collected packages: fire\n",
            "  Building wheel for fire (setup.py) ... \u001b[?25l\u001b[?25hdone\n",
            "  Created wheel for fire: filename=fire-0.5.0-py2.py3-none-any.whl size=116934 sha256=8e0c4af7b0c81449e4bbf4b4a64cf004590cb9262739c6f83f645a74baf33325\n",
            "  Stored in directory: /root/.cache/pip/wheels/90/d4/f7/9404e5db0116bd4d43e5666eaa3e70ab53723e1e3ea40c9a95\n",
            "Successfully built fire\n",
            "Installing collected packages: gunicorn, fire, mtcnn, retina-face, DeepFace\n",
            "Successfully installed DeepFace-0.0.85 fire-0.5.0 gunicorn-21.2.0 mtcnn-0.1.1 retina-face-0.0.14\n"
          ]
        }
      ],
      "source": [
        "!pip install DeepFace"
      ]
    },
    {
      "cell_type": "code",
      "source": [
        "!pip install opencv-python"
      ],
      "metadata": {
        "colab": {
          "base_uri": "https://localhost:8080/"
        },
        "id": "IqXETDM9MkTM",
        "outputId": "0ba1ea3f-57ed-4196-f1fa-dd9bea91ba34"
      },
      "execution_count": 11,
      "outputs": [
        {
          "output_type": "stream",
          "name": "stdout",
          "text": [
            "Requirement already satisfied: opencv-python in /usr/local/lib/python3.10/dist-packages (4.8.0.76)\n",
            "Requirement already satisfied: numpy>=1.21.2 in /usr/local/lib/python3.10/dist-packages (from opencv-python) (1.25.2)\n"
          ]
        }
      ]
    },
    {
      "cell_type": "markdown",
      "source": [
        "- 픽사베이에서 무료 이미지 가져옴"
      ],
      "metadata": {
        "id": "clXA4aBPLB8D"
      }
    },
    {
      "cell_type": "code",
      "source": [
        "from deepface import DeepFace\n",
        "\n",
        "# 감정 분석을 수행할 이미지 로드\n",
        "img_path1 = \"/content/happy.jpg\"\n",
        "\n",
        "# DeepFace를 사용하여 감정 분석 수행\n",
        "result1 = DeepFace.analyze(img_path1, actions=['emotion'], enforce_detection=False)\n",
        "\n",
        "# 결과 출력\n",
        "print(\"Emotion:\", result1[0][\"dominant_emotion\"])\n"
      ],
      "metadata": {
        "colab": {
          "base_uri": "https://localhost:8080/"
        },
        "id": "KgdTU4ouKhQN",
        "outputId": "f8e5ba50-7ba6-4e50-8af2-7f0e1df8c632"
      },
      "execution_count": 20,
      "outputs": [
        {
          "output_type": "stream",
          "name": "stdout",
          "text": [
            "Emotion: angry\n"
          ]
        }
      ]
    },
    {
      "cell_type": "markdown",
      "source": [
        "아이가 웃고 있는 사진인데 ... 어쨰서 ??????\n",
        "다시 해보자 !!!!"
      ],
      "metadata": {
        "id": "SjDvJSJGS_ah"
      }
    },
    {
      "cell_type": "markdown",
      "source": [
        "- 하이라이트 공식 홈페이지에서 사진 가져옴"
      ],
      "metadata": {
        "id": "BO-CiYtmSCwo"
      }
    },
    {
      "cell_type": "code",
      "source": [
        "# 감정 분석을 수행할 이미지 로드\n",
        "img_path2 = \"/content/1.jpg\"\n",
        "\n",
        "# DeepFace를 사용하여 감정 분석 수행\n",
        "result2 = DeepFace.analyze(img_path2, actions=['emotion'], enforce_detection=False)\n",
        "\n",
        "# 결과 출력\n",
        "print(\"Emotion:\", result2[0][\"dominant_emotion\"])"
      ],
      "metadata": {
        "colab": {
          "base_uri": "https://localhost:8080/"
        },
        "id": "3le7q4IKP8Oh",
        "outputId": "b083d489-1cfa-437f-85f3-485b3a76b735"
      },
      "execution_count": 22,
      "outputs": [
        {
          "output_type": "stream",
          "name": "stdout",
          "text": [
            "Emotion: neutral\n"
          ]
        }
      ]
    },
    {
      "cell_type": "markdown",
      "source": [
        "왜...... 웃는 사진인데 ............"
      ],
      "metadata": {
        "id": "0prk2SdXS9Ib"
      }
    },
    {
      "cell_type": "code",
      "source": [],
      "metadata": {
        "id": "JoIIIBujS-x6"
      },
      "execution_count": null,
      "outputs": []
    }
  ]
}