{
  "nbformat": 4,
  "nbformat_minor": 0,
  "metadata": {
    "colab": {
      "provenance": [],
      "collapsed_sections": [],
      "authorship_tag": "ABX9TyOaik/GRcymOr6qVSRdQAOn"
    },
    "kernelspec": {
      "name": "python3",
      "display_name": "Python 3"
    },
    "language_info": {
      "name": "python"
    }
  },
  "cells": [
    {
      "cell_type": "markdown",
      "source": [
        "# 람다 : 익명함수\n",
        "- 단일문장 1줄로 코드 작성\n",
        "- retrun문이 없지만 값을 반환\n",
        "\n",
        "\n",
        "> - 위키독스 [한 권으로 끝내는 <파이썬 노트>]\n",
        "- https://wikidocs.net/138214"
      ],
      "metadata": {
        "id": "2HIVkESEJO4J"
      }
    },
    {
      "cell_type": "markdown",
      "source": [
        "### 1개의 인수"
      ],
      "metadata": {
        "id": "bzpWTZ7UKwAK"
      }
    },
    {
      "cell_type": "code",
      "source": [
        "a = lambda x: x * 2\n",
        "\n",
        "# x는 4 라고 했을 때\n",
        "a(4)\n",
        "# a = lambda 4 : 4 *2\n",
        "# 4*2 = 8"
      ],
      "metadata": {
        "colab": {
          "base_uri": "https://localhost:8080/"
        },
        "id": "DRArrpNLJXyG",
        "outputId": "e39ac0d4-436e-438e-9094-1cc2c89be104"
      },
      "execution_count": null,
      "outputs": [
        {
          "output_type": "execute_result",
          "data": {
            "text/plain": [
              "8"
            ]
          },
          "metadata": {},
          "execution_count": 5
        }
      ]
    },
    {
      "cell_type": "markdown",
      "source": [
        "### 2개의 인수"
      ],
      "metadata": {
        "id": "XIBIc4ufKpJT"
      }
    },
    {
      "cell_type": "code",
      "source": [
        "a = lambda x, y: x*y\n",
        "a(4, 8)\n",
        "# lambda 4, 8 : 4*8\n",
        "# 4*8 = 32"
      ],
      "metadata": {
        "colab": {
          "base_uri": "https://localhost:8080/"
        },
        "id": "WZhvlSQXJsY1",
        "outputId": "4f7a56b9-2636-4023-d50a-8275b7f7848b"
      },
      "execution_count": null,
      "outputs": [
        {
          "output_type": "execute_result",
          "data": {
            "text/plain": [
              "32"
            ]
          },
          "metadata": {},
          "execution_count": 10
        }
      ]
    },
    {
      "cell_type": "markdown",
      "source": [
        "### 기본 값이 지정된 인수를 가지는 lambda 함수"
      ],
      "metadata": {
        "id": "60CECzP0K_jq"
      }
    },
    {
      "cell_type": "code",
      "source": [
        "a = lambda x, y=10: x * y\n",
        "a(3)\n",
        "# lambda3, y=10 : 3 * 10"
      ],
      "metadata": {
        "colab": {
          "base_uri": "https://localhost:8080/"
        },
        "id": "raxPrzP3KviL",
        "outputId": "7ef70f12-62c9-48e2-fecc-b7f2af6ff54c"
      },
      "execution_count": null,
      "outputs": [
        {
          "output_type": "execute_result",
          "data": {
            "text/plain": [
              "30"
            ]
          },
          "metadata": {},
          "execution_count": 7
        }
      ]
    },
    {
      "cell_type": "markdown",
      "source": [
        "### 키워드 인수를 지정하는 lambda 함수"
      ],
      "metadata": {
        "id": "_7oeKIsULD0T"
      }
    },
    {
      "cell_type": "code",
      "source": [
        "a(y=5, x=3)"
      ],
      "metadata": {
        "colab": {
          "base_uri": "https://localhost:8080/"
        },
        "id": "hKJYrlmJLBCc",
        "outputId": "7a54daeb-5674-492b-e149-eb3f90d0a139"
      },
      "execution_count": null,
      "outputs": [
        {
          "output_type": "execute_result",
          "data": {
            "text/plain": [
              "15"
            ]
          },
          "metadata": {},
          "execution_count": 8
        }
      ]
    },
    {
      "cell_type": "markdown",
      "source": [
        "### lambda 함수 내부에서 조건문 사용"
      ],
      "metadata": {
        "id": "QCX0_FPPLQGb"
      }
    },
    {
      "cell_type": "code",
      "source": [
        "a = lambda x, y: x * y if x > 0 else y\n",
        "# x가 0보다 크면 조건문 실행을 하고 그렇지 않으면 y를 반환\n",
        "a(4, 8)\n",
        "# x가 4>0 이니까 x*y 실행됨 \n",
        "# 4*8"
      ],
      "metadata": {
        "colab": {
          "base_uri": "https://localhost:8080/"
        },
        "id": "sHstaPErLKFQ",
        "outputId": "27c41982-5f2d-49e6-a671-0d0bd7b61274"
      },
      "execution_count": null,
      "outputs": [
        {
          "output_type": "execute_result",
          "data": {
            "text/plain": [
              "32"
            ]
          },
          "metadata": {},
          "execution_count": 12
        }
      ]
    },
    {
      "cell_type": "code",
      "source": [
        "a(-1 , 5)\n",
        "# x가 -1<0 이니까 x*y 실행되지않고 y 반환"
      ],
      "metadata": {
        "colab": {
          "base_uri": "https://localhost:8080/"
        },
        "id": "Aa6qJ1hxLkGc",
        "outputId": "5283fadb-352a-4bbe-bb2e-6161506f19bc"
      },
      "execution_count": null,
      "outputs": [
        {
          "output_type": "execute_result",
          "data": {
            "text/plain": [
              "5"
            ]
          },
          "metadata": {},
          "execution_count": 14
        }
      ]
    }
  ]
}