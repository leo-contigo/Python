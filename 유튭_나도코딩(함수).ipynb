{
  "nbformat": 4,
  "nbformat_minor": 0,
  "metadata": {
    "colab": {
      "provenance": [],
      "collapsed_sections": [],
      "authorship_tag": "ABX9TyPyeJ+ITOSJeAZoWY4nZqvb"
    },
    "kernelspec": {
      "name": "python3",
      "display_name": "Python 3"
    },
    "language_info": {
      "name": "python"
    }
  },
  "cells": [
    {
      "cell_type": "markdown",
      "source": [
        "# 나도 코딩 7 - 파이썬 코딩 무료 강의 (기본편)\n",
        "- https://youtu.be/kWiCuklohdY"
      ],
      "metadata": {
        "id": "CtDEGPj5tDQK"
      }
    },
    {
      "cell_type": "markdown",
      "source": [
        "\n",
        "\n",
        "---\n",
        "\n"
      ],
      "metadata": {
        "id": "cli9SC3tyMr9"
      }
    },
    {
      "cell_type": "markdown",
      "source": [
        "# 함수"
      ],
      "metadata": {
        "id": "VyMhMxbqyLkK"
      }
    },
    {
      "cell_type": "code",
      "execution_count": 19,
      "metadata": {
        "colab": {
          "base_uri": "https://localhost:8080/"
        },
        "id": "IATqnWiHrf8E",
        "outputId": "6e2729af-add9-4d01-9115-6d5493b3d543"
      },
      "outputs": [
        {
          "output_type": "stream",
          "name": "stdout",
          "text": [
            "새로운 계좌가 생성되었습니다.\n"
          ]
        }
      ],
      "source": [
        "def open_account():\n",
        "  print('새로운 계좌가 생성되었습니다.')\n",
        "\n",
        "open_account()"
      ]
    },
    {
      "cell_type": "code",
      "source": [
        "# 입금\n",
        "# balance : 잔액\n",
        "# money : 입금금액\n",
        "def deposit(balance, money):\n",
        "  print('입금이 완료되었습니다. 잔액은{0}원입니다.'.format(balance + money))\n",
        "  return balance + money\n",
        "\n",
        "balance = 0 \n",
        "balance = deposit(balance, 1000)\n",
        "print(balance)\n",
        "\n",
        "# 출금\n",
        "def withdraw(balance, money):\n",
        "  # 잔액이 출금보다 많으면\n",
        "  if balance >= money :\n",
        "    print('출금이 완료되었습니다. 잔액은{0}원입니다.'.format(balance-money))\n",
        "    return balance - money\n",
        "\n",
        "  else:\n",
        "    print('출금이 완료되지 않았습니다. 잔액은{0}원입니다.'.format(balance))\n",
        "\n",
        "# balance = 0\n",
        "# balance = withdraw(balance, 2000)\n",
        "# balance = withdraw(balance, 500)\n",
        "\n",
        "# 저녁에 출금\n",
        "def withdraw_night(balance, money):\n",
        "  # 수수료 발생\n",
        "  commission = 100\n",
        "  return commission, balance - money - commission\n",
        "\n",
        "commission, balance = withdraw_night(balance, 500)\n",
        "print('수수료{0}원이며, 잔액은{1}원입니다.'.format(commission, balance))"
      ],
      "metadata": {
        "colab": {
          "base_uri": "https://localhost:8080/"
        },
        "id": "TUWYSb6TyRLJ",
        "outputId": "4e8e1fa6-e421-4f63-ce4a-df0afbaca5b0"
      },
      "execution_count": 20,
      "outputs": [
        {
          "output_type": "stream",
          "name": "stdout",
          "text": [
            "입금이 완료되었습니다. 잔액은1000원입니다.\n",
            "1000\n",
            "수수료100원이며, 잔액은400원입니다.\n"
          ]
        }
      ]
    },
    {
      "cell_type": "markdown",
      "source": [
        "## 기본값 설정"
      ],
      "metadata": {
        "id": "uGqDOyxruP6-"
      }
    },
    {
      "cell_type": "code",
      "source": [
        "def profile(name, age, main_lang):\n",
        "  print('이름 : {0},\\t 나이 : {1},\\t 주 사용언어: {2}'.format(name, age, main_lang))\n",
        "\n",
        "profile('유재석', 20, '파이썬')\n",
        "profile('나영석', 25, '자바')\n",
        "\n",
        "print('-'*50)\n",
        "\n",
        "# 같은학교 같은학년 같은반 같은 수업\n",
        "# 이름만 다름\n",
        "# 기본 값\n",
        "\n",
        "def profile1(name, age=17, main_lang='파이썬'):\n",
        "  print('이름 : {0},\\t 나이 : {1},\\t 주 사용언어: {2}'.format(name, age, main_lang))\n",
        "\n",
        "profile1('유재석')\n",
        "profile1('나영석')"
      ],
      "metadata": {
        "colab": {
          "base_uri": "https://localhost:8080/"
        },
        "id": "1fzMQY7ixtEE",
        "outputId": "692b581d-1143-4a05-b4be-e45e0c0ba575"
      },
      "execution_count": 26,
      "outputs": [
        {
          "output_type": "stream",
          "name": "stdout",
          "text": [
            "이름 : 유재석,\t 나이 : 20,\t 주 사용언어: 파이썬\n",
            "이름 : 나영석,\t 나이 : 25,\t 주 사용언어: 자바\n",
            "--------------------------------------------------\n",
            "이름 : 유재석,\t 나이 : 17,\t 주 사용언어: 파이썬\n",
            "이름 : 나영석,\t 나이 : 17,\t 주 사용언어: 파이썬\n"
          ]
        }
      ]
    },
    {
      "cell_type": "markdown",
      "source": [
        "## 키워드값"
      ],
      "metadata": {
        "id": "iNOGX6CjzZgF"
      }
    },
    {
      "cell_type": "code",
      "source": [
        "def profile(name, age, main_lang):\n",
        "  print(name, age, main_lang)\n",
        "\n",
        "# 순서가 뒤섞여있어도 위 설정한 대로 출력댐\n",
        "profile(name='유재석', main_lang='파이썬', age=20)"
      ],
      "metadata": {
        "colab": {
          "base_uri": "https://localhost:8080/"
        },
        "id": "UpNRgRRdzXKQ",
        "outputId": "39109714-c181-438e-a484-c80598081857"
      },
      "execution_count": 28,
      "outputs": [
        {
          "output_type": "stream",
          "name": "stdout",
          "text": [
            "유재석 20 파이썬\n"
          ]
        }
      ]
    },
    {
      "cell_type": "markdown",
      "source": [
        "## 가변인자"
      ],
      "metadata": {
        "id": "okKOZHD_z2Xy"
      }
    },
    {
      "cell_type": "code",
      "source": [
        "def profile(name, age, lang1, lang2, lang3, lang4, lang5):\n",
        "  print('이름 : {0},\\t 나이 : {1},\\t'.format(name, age), end = \" \") # print문 끝날때 줄바꿈 x \n",
        "  print(lang1, lang2, lang3, lang4, lang5)\n",
        "\n",
        "profile('유재석', 20, '파이썬', '자바', 'C', 'C++', 'C#')\n",
        "profile('나영석', 25, 'Kotlin', 'Swift', '', '', '')\n",
        "\n",
        "print('-'*50)\n",
        "\n",
        "# 추가를 하거나 빈값에 ''여러개 넣을 수 잆음. \n",
        "# 그럴때 가변인자를 사용\n",
        "\n",
        "def profile1(name, age, *language):\n",
        "  print('이름 : {0},\\t 나이 : {1},\\t'.format(name, age), end = \" \")\n",
        "  for lang in language:\n",
        "    print(lang, end = ' ')\n",
        "  print()\n",
        "\n",
        "profile1('유재석', 20, '파이썬', '자바', 'C', 'C++', 'C#', 'R')\n",
        "profile1('나영석', 25, 'Kotlin', 'Swift')"
      ],
      "metadata": {
        "colab": {
          "base_uri": "https://localhost:8080/"
        },
        "id": "lYZfxKf9z11R",
        "outputId": "a6ad8c8a-2665-4ce0-bc43-a7326a3013fd"
      },
      "execution_count": 36,
      "outputs": [
        {
          "output_type": "stream",
          "name": "stdout",
          "text": [
            "이름 : 유재석,\t 나이 : 20,\t 파이썬 자바 C C++ C#\n",
            "이름 : 나영석,\t 나이 : 25,\t Kotlin Swift   \n",
            "--------------------------------------------------\n",
            "이름 : 유재석,\t 나이 : 20,\t 파이썬 자바 C C++ C# R \n",
            "이름 : 나영석,\t 나이 : 25,\t Kotlin Swift \n"
          ]
        }
      ]
    },
    {
      "cell_type": "markdown",
      "source": [
        "## 지역변수, 전역변수"
      ],
      "metadata": {
        "id": "YtpJekH_1x7E"
      }
    },
    {
      "cell_type": "code",
      "source": [
        "# 총이 10자루 있다고 가정\n",
        "gun = 10\n",
        "\n",
        "# 근무 나가는 군인들이 챙겨 나가겠지?\n",
        "def checkpoint(soldiers):\n",
        "  # 전역 공간에 있는 gun = 10 을 사용\n",
        "  global gun\n",
        "  gun = gun - soldiers\n",
        "  print('[함수 내] 남은 총 : {0}'.format(gun))\n",
        "\n",
        "print('전체 총 : {0}'.format(gun))\n",
        "checkpoint(2) # 2명이 근무\n",
        "print('남은 총 : {0}'.format(gun))"
      ],
      "metadata": {
        "colab": {
          "base_uri": "https://localhost:8080/"
        },
        "id": "392DpywZywK2",
        "outputId": "8aff36cd-bbe9-48b2-bf5c-d606ad46fa27"
      },
      "execution_count": 40,
      "outputs": [
        {
          "output_type": "stream",
          "name": "stdout",
          "text": [
            "전체 총 : 10\n",
            "[함수 내] 남은 총 : 8\n",
            "남은 총 : 8\n"
          ]
        }
      ]
    },
    {
      "cell_type": "code",
      "source": [
        "# 총이 10자루 있다고 가정\n",
        "gun = 10\n",
        "\n",
        "def checkpoint_ret(gun, soldiers):\n",
        "  gun = gun - soldiers\n",
        "  print('[함수 내] 남은 총 : {0}'.format(gun))\n",
        "  return gun\n",
        "\n",
        "print('전체 총 : {0}'.format(gun))\n",
        "gun = checkpoint_ret(gun, 2)\n",
        "print('남은 총 : {0}'.format(gun))"
      ],
      "metadata": {
        "colab": {
          "base_uri": "https://localhost:8080/"
        },
        "id": "5SYewn3A28KS",
        "outputId": "037b7b52-2552-4be6-9b3f-9f4661452fbb"
      },
      "execution_count": 42,
      "outputs": [
        {
          "output_type": "stream",
          "name": "stdout",
          "text": [
            "전체 총 : 10\n",
            "[함수 내] 남은 총 : 8\n",
            "남은 총 : 8\n"
          ]
        }
      ]
    },
    {
      "cell_type": "markdown",
      "source": [
        "\n",
        "\n",
        "---\n",
        "\n"
      ],
      "metadata": {
        "id": "ayHCx5KR4JcE"
      }
    },
    {
      "cell_type": "markdown",
      "source": [
        "## Q 표준 체중을 구하는 프로그램을 작성.\n",
        "* 표준 체중 : 각 개인의 키에 적당한 체중\n",
        "\n",
        "( 성별에 따른 공식)<br>\n",
        "  남자 : 키(m) x 키(m) x 22\n",
        "  여자 : 키(m) x 키(m) x 21\n",
        "\n",
        "\n",
        "조건 1 : 포준 체중은 별도의 함수 내에서 계산\n",
        "  - 함수명 : std_weight\n",
        "  - 전달값 : 키(height), 성별(gender)\n",
        "조건 2 : 표준 체중은 소수점 둘째자리까지 표시\n",
        "\n",
        "(출력예)\n",
        "키 175cm 남자의 표준 체중은 67.38kg입니다."
      ],
      "metadata": {
        "id": "BHxF1jgn4KXq"
      }
    },
    {
      "cell_type": "code",
      "source": [
        "def std_weight(height, gender): # 키 m단위(실수), 성별 '남자'/'여자\n",
        "  if gender == '남자':\n",
        "    return height * height * 22\n",
        "  else : # 여자\n",
        "    return height * height * 21\n",
        "\n",
        "height = 175 # cm단위\n",
        "gender = '남자'\n",
        "weight = round(std_weight(height/100, gender),2)\n",
        "\n",
        "print('키 {0}cm {1}의 표준 체중은 {2}kg입니다.'.format(height, gender, weight))"
      ],
      "metadata": {
        "colab": {
          "base_uri": "https://localhost:8080/"
        },
        "id": "ANJqP6_e4A5V",
        "outputId": "3e344c04-7851-4c6f-a197-8313d21b8f40"
      },
      "execution_count": 49,
      "outputs": [
        {
          "output_type": "stream",
          "name": "stdout",
          "text": [
            "키 175cm 남자의 표준 체중은 67.38kg입니다.\n"
          ]
        }
      ]
    },
    {
      "cell_type": "code",
      "source": [],
      "metadata": {
        "id": "RuDDqedF5eGI"
      },
      "execution_count": null,
      "outputs": []
    }
  ]
}