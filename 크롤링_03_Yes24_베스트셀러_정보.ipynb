{
  "nbformat": 4,
  "nbformat_minor": 0,
  "metadata": {
    "colab": {
      "provenance": [],
      "collapsed_sections": [],
      "authorship_tag": "ABX9TyNZ47bY0tU3odlSveyXL3B4",
      "include_colab_link": true
    },
    "kernelspec": {
      "name": "python3",
      "display_name": "Python 3"
    },
    "language_info": {
      "name": "python"
    }
  },
  "cells": [
    {
      "cell_type": "markdown",
      "metadata": {
        "id": "view-in-github",
        "colab_type": "text"
      },
      "source": [
        "<a href=\"https://colab.research.google.com/github/leo-contigo/test-project/blob/main/%ED%81%AC%EB%A1%A4%EB%A7%81_Yes24_%EB%B2%A0%EC%8A%A4%ED%8A%B8%EC%85%80%EB%9F%AC_%EC%A0%95%EB%B3%B4.ipynb\" target=\"_parent\"><img src=\"https://colab.research.google.com/assets/colab-badge.svg\" alt=\"Open In Colab\"/></a>"
      ]
    },
    {
      "cell_type": "code",
      "execution_count": 17,
      "metadata": {
        "id": "f7XIGdv-uDXI"
      },
      "outputs": [],
      "source": [
        "import requests\n",
        "import pandas as pd\n",
        "from bs4 import BeautifulSoup"
      ]
    },
    {
      "cell_type": "code",
      "source": [
        "# 1) 웹페이지 접근해서 정보를 가져와야함 => response 객체 => html 페이지\n",
        "\n",
        "url = 'http://www.yes24.com/Main/default.aspx'\n",
        "res = requests.get(url)\n",
        "html_str = res.text\n",
        "print(res)"
      ],
      "metadata": {
        "colab": {
          "base_uri": "https://localhost:8080/"
        },
        "id": "xg23WQ8-uFpu",
        "outputId": "dd6cbd66-b22f-428c-d117-ffdb7cc9e915"
      },
      "execution_count": 18,
      "outputs": [
        {
          "output_type": "stream",
          "name": "stdout",
          "text": [
            "<Response [200]>\n"
          ]
        }
      ]
    },
    {
      "cell_type": "code",
      "source": [
        "# 2) 뷰티풀 숩 객체화 \n",
        "# html 페이지 => 숩객체\n",
        "\n",
        "soup = BeautifulSoup(html_str)\n",
        "# soup"
      ],
      "metadata": {
        "id": "Y6tZSabVuJ8W"
      },
      "execution_count": 19,
      "outputs": []
    },
    {
      "cell_type": "code",
      "source": [
        "# 3) 소스 파악 \n",
        "# 크롬개발자 모드 : f12 , ctrl+shift+i"
      ],
      "metadata": {
        "id": "PK0tAq9euSip"
      },
      "execution_count": 20,
      "outputs": []
    },
    {
      "cell_type": "code",
      "source": [
        "# 4) 순위 정보 추출\n",
        "# tp02 클래스 값을 가지고 있는 li 태그\n",
        "\n",
        " # 리스트로 받는다 \n",
        "target = soup.select('li.tp02')\n",
        "\n",
        " # tp02의 갯수가 10개\n",
        "print(len(target))\n",
        "print(target[0]) # 1위의 tp\n",
        "print()\n",
        "print(target[-1]) # 10위의 tp\n",
        "print()"
      ],
      "metadata": {
        "colab": {
          "base_uri": "https://localhost:8080/"
        },
        "id": "88N1Ihgtu5Iu",
        "outputId": "1481d67d-c95f-473c-f4d1-a59540c9287d"
      },
      "execution_count": 21,
      "outputs": [
        {
          "output_type": "stream",
          "name": "stdout",
          "text": [
            "10\n",
            "<li class=\"tp02\">\n",
            "<strong class=\"icon rnk_1\">1위</strong>\n",
            "<em class=\"rnk_chg chg_even\">0</em>\n",
            "<span class=\"rnk_img\"><img alt=\"역행자 (10만 부 기념 페이크 에디션)\" border=\"0\" src=\"https://image.yes24.com/Goods/109705390/S\" width=\"40\"/></span>\n",
            "<span class=\"rnk_info\">\n",
            "<strong>역행자 (10만 부 기념 페이크 에디션)</strong>\n",
            "<em>자청 저</em>\n",
            "</span>\n",
            "<a class=\"rnk_lnk\" href=\"/Product/Goods/109705390\" onclick=\"setWcode('010_006');\" target=\"_self\" title=\"역행자 (10만 부 기념 페이크 에디션) 자청 저 웅진지식하우스\">'역행자 (10만 부 기념 페이크 에디션)' 상품상세로 이동</a>\n",
            "</li>\n",
            "\n",
            "<li class=\"tp02\">\n",
            "<strong class=\"icon rnk_10\">10위</strong>\n",
            "<em class=\"rnk_chg chg_up\">3</em>\n",
            "<span class=\"rnk_img\"><img alt=\"그리스 로마 신화 30\" border=\"0\" src=\"https://image.yes24.com/Goods/112890785/S\" width=\"40\"/></span>\n",
            "<span class=\"rnk_info\">\n",
            "<strong>그리스 로마 신화 30</strong>\n",
            "<em>박시연 글/최우빈 그림/김헌 감수</em>\n",
            "</span>\n",
            "<a class=\"rnk_lnk\" href=\"/Product/Goods/112890785\" onclick=\"setWcode('010_006');\" target=\"_self\" title=\"그리스 로마 신화 30 박시연 글/최우빈 그림/김헌 감수 아울북\">'그리스 로마 신화 30' 상품상세로 이동</a>\n",
            "</li>\n",
            "\n"
          ]
        }
      ]
    },
    {
      "cell_type": "code",
      "source": [
        "# 5) 1위에서 개별 정보 추출\n",
        "# 순위, 책제목, 저자, 출판사\n",
        "\n",
        "print('순위 → ', target[0].select_one('strong').text)\n",
        "print('책 제목 → ', target[0].select('strong')[1].text)\n",
        "print('저자 → ', target[0].select('em')[1].text)\n",
        "print('출판사 → ', target[0].select_one('a')['title'].split()[-1])"
      ],
      "metadata": {
        "colab": {
          "base_uri": "https://localhost:8080/"
        },
        "id": "nTn8E1Hvu5Ln",
        "outputId": "f09796a0-1b67-4764-860d-e8c1d21af417"
      },
      "execution_count": 22,
      "outputs": [
        {
          "output_type": "stream",
          "name": "stdout",
          "text": [
            "순위 →  1위\n",
            "책 제목 →  역행자 (10만 부 기념 페이크 에디션)\n",
            "저자 →  자청 저\n",
            "출판사 →  웅진지식하우스\n"
          ]
        }
      ]
    },
    {
      "cell_type": "code",
      "source": [
        "# 6) 2차원 리스트 구조로 변경\n",
        "\n",
        "# 빈리스트 생성\n",
        "bestbook_list = []\n",
        "for a in target: \n",
        "    순위 = a.select_one('strong').text\n",
        "    책제목 = a.select('strong')[1].text\n",
        "    저자 = a.select('em')[1].text\n",
        "    출판사 = a.select_one('a')['title'].split()[-1]\n",
        "\n",
        "    print(순위, 책제목, 저자, 출판사)\n",
        "                                      \n",
        "    # 리스트에 추가 \n",
        "    bestbook_list.append([순위, 책제목, 저자, 출판사])"
      ],
      "metadata": {
        "colab": {
          "base_uri": "https://localhost:8080/"
        },
        "id": "KbF-MP_Cu5RC",
        "outputId": "2190a991-d5ee-4cc1-9225-54a50d01bf96"
      },
      "execution_count": 23,
      "outputs": [
        {
          "output_type": "stream",
          "name": "stdout",
          "text": [
            "1위 역행자 (10만 부 기념 페이크 에디션) 자청 저 웅진지식하우스\n",
            "2위 불편한 편의점 2 김호연 저 나무옆의자\n",
            "3위 하얼빈 김훈 저 문학동네\n",
            "4위 아버지의 해방일지 정지아 저 창비\n",
            "5위 불편한 편의점 김호연 저 나무옆의자\n",
            "6위 파친코 2 이민진 저/신승미 역 인플루엔셜\n",
            "7위 엄마의 말 연습  윤지영 저  카시오페아\n",
            "8위 설민석의 한국사 대모험 22 설민석,스토리박스 글/정현희 그림/강석화 감수 단꿈아이\n",
            "9위 파친코 1 이민진 저/신승미 역 인플루엔셜\n",
            "10위 그리스 로마 신화 30 박시연 글/최우빈 그림/김헌 감수 아울북\n"
          ]
        }
      ]
    },
    {
      "cell_type": "code",
      "source": [
        "# 데이터프레임\n",
        "pd.DataFrame(bestbook_list, columns=['순위', '책제목', '저자', '출판사'])\n",
        "df = pd.DataFrame(bestbook_list, columns=['순위', '책제목', '저자', '출판사'])\n",
        "df"
      ],
      "metadata": {
        "colab": {
          "base_uri": "https://localhost:8080/",
          "height": 363
        },
        "id": "wts16K6Lu5UK",
        "outputId": "7f439e96-d601-430b-d000-d5e3230a5c6e"
      },
      "execution_count": 24,
      "outputs": [
        {
          "output_type": "execute_result",
          "data": {
            "text/plain": [
              "    순위                     책제목                         저자      출판사\n",
              "0   1위  역행자 (10만 부 기념 페이크 에디션)                       자청 저  웅진지식하우스\n",
              "1   2위               불편한 편의점 2                      김호연 저    나무옆의자\n",
              "2   3위                     하얼빈                       김훈 저     문학동네\n",
              "3   4위               아버지의 해방일지                      정지아 저       창비\n",
              "4   5위                 불편한 편의점                      김호연 저    나무옆의자\n",
              "5   6위                   파친코 2                이민진 저/신승미 역    인플루엔셜\n",
              "6   7위               엄마의 말 연습                      윤지영 저     카시오페아\n",
              "7   8위         설민석의 한국사 대모험 22  설민석,스토리박스 글/정현희 그림/강석화 감수     단꿈아이\n",
              "8   9위                   파친코 1                이민진 저/신승미 역    인플루엔셜\n",
              "9  10위            그리스 로마 신화 30         박시연 글/최우빈 그림/김헌 감수      아울북"
            ],
            "text/html": [
              "\n",
              "  <div id=\"df-5da7e66f-de8e-480c-8009-afa1d3ae017a\">\n",
              "    <div class=\"colab-df-container\">\n",
              "      <div>\n",
              "<style scoped>\n",
              "    .dataframe tbody tr th:only-of-type {\n",
              "        vertical-align: middle;\n",
              "    }\n",
              "\n",
              "    .dataframe tbody tr th {\n",
              "        vertical-align: top;\n",
              "    }\n",
              "\n",
              "    .dataframe thead th {\n",
              "        text-align: right;\n",
              "    }\n",
              "</style>\n",
              "<table border=\"1\" class=\"dataframe\">\n",
              "  <thead>\n",
              "    <tr style=\"text-align: right;\">\n",
              "      <th></th>\n",
              "      <th>순위</th>\n",
              "      <th>책제목</th>\n",
              "      <th>저자</th>\n",
              "      <th>출판사</th>\n",
              "    </tr>\n",
              "  </thead>\n",
              "  <tbody>\n",
              "    <tr>\n",
              "      <th>0</th>\n",
              "      <td>1위</td>\n",
              "      <td>역행자 (10만 부 기념 페이크 에디션)</td>\n",
              "      <td>자청 저</td>\n",
              "      <td>웅진지식하우스</td>\n",
              "    </tr>\n",
              "    <tr>\n",
              "      <th>1</th>\n",
              "      <td>2위</td>\n",
              "      <td>불편한 편의점 2</td>\n",
              "      <td>김호연 저</td>\n",
              "      <td>나무옆의자</td>\n",
              "    </tr>\n",
              "    <tr>\n",
              "      <th>2</th>\n",
              "      <td>3위</td>\n",
              "      <td>하얼빈</td>\n",
              "      <td>김훈 저</td>\n",
              "      <td>문학동네</td>\n",
              "    </tr>\n",
              "    <tr>\n",
              "      <th>3</th>\n",
              "      <td>4위</td>\n",
              "      <td>아버지의 해방일지</td>\n",
              "      <td>정지아 저</td>\n",
              "      <td>창비</td>\n",
              "    </tr>\n",
              "    <tr>\n",
              "      <th>4</th>\n",
              "      <td>5위</td>\n",
              "      <td>불편한 편의점</td>\n",
              "      <td>김호연 저</td>\n",
              "      <td>나무옆의자</td>\n",
              "    </tr>\n",
              "    <tr>\n",
              "      <th>5</th>\n",
              "      <td>6위</td>\n",
              "      <td>파친코 2</td>\n",
              "      <td>이민진 저/신승미 역</td>\n",
              "      <td>인플루엔셜</td>\n",
              "    </tr>\n",
              "    <tr>\n",
              "      <th>6</th>\n",
              "      <td>7위</td>\n",
              "      <td>엄마의 말 연습</td>\n",
              "      <td>윤지영 저</td>\n",
              "      <td>카시오페아</td>\n",
              "    </tr>\n",
              "    <tr>\n",
              "      <th>7</th>\n",
              "      <td>8위</td>\n",
              "      <td>설민석의 한국사 대모험 22</td>\n",
              "      <td>설민석,스토리박스 글/정현희 그림/강석화 감수</td>\n",
              "      <td>단꿈아이</td>\n",
              "    </tr>\n",
              "    <tr>\n",
              "      <th>8</th>\n",
              "      <td>9위</td>\n",
              "      <td>파친코 1</td>\n",
              "      <td>이민진 저/신승미 역</td>\n",
              "      <td>인플루엔셜</td>\n",
              "    </tr>\n",
              "    <tr>\n",
              "      <th>9</th>\n",
              "      <td>10위</td>\n",
              "      <td>그리스 로마 신화 30</td>\n",
              "      <td>박시연 글/최우빈 그림/김헌 감수</td>\n",
              "      <td>아울북</td>\n",
              "    </tr>\n",
              "  </tbody>\n",
              "</table>\n",
              "</div>\n",
              "      <button class=\"colab-df-convert\" onclick=\"convertToInteractive('df-5da7e66f-de8e-480c-8009-afa1d3ae017a')\"\n",
              "              title=\"Convert this dataframe to an interactive table.\"\n",
              "              style=\"display:none;\">\n",
              "        \n",
              "  <svg xmlns=\"http://www.w3.org/2000/svg\" height=\"24px\"viewBox=\"0 0 24 24\"\n",
              "       width=\"24px\">\n",
              "    <path d=\"M0 0h24v24H0V0z\" fill=\"none\"/>\n",
              "    <path d=\"M18.56 5.44l.94 2.06.94-2.06 2.06-.94-2.06-.94-.94-2.06-.94 2.06-2.06.94zm-11 1L8.5 8.5l.94-2.06 2.06-.94-2.06-.94L8.5 2.5l-.94 2.06-2.06.94zm10 10l.94 2.06.94-2.06 2.06-.94-2.06-.94-.94-2.06-.94 2.06-2.06.94z\"/><path d=\"M17.41 7.96l-1.37-1.37c-.4-.4-.92-.59-1.43-.59-.52 0-1.04.2-1.43.59L10.3 9.45l-7.72 7.72c-.78.78-.78 2.05 0 2.83L4 21.41c.39.39.9.59 1.41.59.51 0 1.02-.2 1.41-.59l7.78-7.78 2.81-2.81c.8-.78.8-2.07 0-2.86zM5.41 20L4 18.59l7.72-7.72 1.47 1.35L5.41 20z\"/>\n",
              "  </svg>\n",
              "      </button>\n",
              "      \n",
              "  <style>\n",
              "    .colab-df-container {\n",
              "      display:flex;\n",
              "      flex-wrap:wrap;\n",
              "      gap: 12px;\n",
              "    }\n",
              "\n",
              "    .colab-df-convert {\n",
              "      background-color: #E8F0FE;\n",
              "      border: none;\n",
              "      border-radius: 50%;\n",
              "      cursor: pointer;\n",
              "      display: none;\n",
              "      fill: #1967D2;\n",
              "      height: 32px;\n",
              "      padding: 0 0 0 0;\n",
              "      width: 32px;\n",
              "    }\n",
              "\n",
              "    .colab-df-convert:hover {\n",
              "      background-color: #E2EBFA;\n",
              "      box-shadow: 0px 1px 2px rgba(60, 64, 67, 0.3), 0px 1px 3px 1px rgba(60, 64, 67, 0.15);\n",
              "      fill: #174EA6;\n",
              "    }\n",
              "\n",
              "    [theme=dark] .colab-df-convert {\n",
              "      background-color: #3B4455;\n",
              "      fill: #D2E3FC;\n",
              "    }\n",
              "\n",
              "    [theme=dark] .colab-df-convert:hover {\n",
              "      background-color: #434B5C;\n",
              "      box-shadow: 0px 1px 3px 1px rgba(0, 0, 0, 0.15);\n",
              "      filter: drop-shadow(0px 1px 2px rgba(0, 0, 0, 0.3));\n",
              "      fill: #FFFFFF;\n",
              "    }\n",
              "  </style>\n",
              "\n",
              "      <script>\n",
              "        const buttonEl =\n",
              "          document.querySelector('#df-5da7e66f-de8e-480c-8009-afa1d3ae017a button.colab-df-convert');\n",
              "        buttonEl.style.display =\n",
              "          google.colab.kernel.accessAllowed ? 'block' : 'none';\n",
              "\n",
              "        async function convertToInteractive(key) {\n",
              "          const element = document.querySelector('#df-5da7e66f-de8e-480c-8009-afa1d3ae017a');\n",
              "          const dataTable =\n",
              "            await google.colab.kernel.invokeFunction('convertToInteractive',\n",
              "                                                     [key], {});\n",
              "          if (!dataTable) return;\n",
              "\n",
              "          const docLinkHtml = 'Like what you see? Visit the ' +\n",
              "            '<a target=\"_blank\" href=https://colab.research.google.com/notebooks/data_table.ipynb>data table notebook</a>'\n",
              "            + ' to learn more about interactive tables.';\n",
              "          element.innerHTML = '';\n",
              "          dataTable['output_type'] = 'display_data';\n",
              "          await google.colab.output.renderOutput(dataTable, element);\n",
              "          const docLink = document.createElement('div');\n",
              "          docLink.innerHTML = docLinkHtml;\n",
              "          element.appendChild(docLink);\n",
              "        }\n",
              "      </script>\n",
              "    </div>\n",
              "  </div>\n",
              "  "
            ]
          },
          "metadata": {},
          "execution_count": 24
        }
      ]
    },
    {
      "cell_type": "code",
      "source": [],
      "metadata": {
        "id": "e5b0oGAXm0pZ"
      },
      "execution_count": null,
      "outputs": []
    }
  ]
}
