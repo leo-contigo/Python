{
  "nbformat": 4,
  "nbformat_minor": 0,
  "metadata": {
    "colab": {
      "provenance": [],
      "collapsed_sections": [],
      "authorship_tag": "ABX9TyMiHsT9JHIYo9OmwOqBdl/X"
    },
    "kernelspec": {
      "name": "python3",
      "display_name": "Python 3"
    },
    "language_info": {
      "name": "python"
    }
  },
  "cells": [
    {
      "cell_type": "markdown",
      "source": [
        "# 공공데이터 \n",
        "\n",
        "- 데이터 포털\n",
        "- https://www.data.go.kr\n",
        "\n",
        "\n",
        "### 1 과학기술정보통신부 우정사업본부_도로명주소조회서비스\n",
        "- 승인 완료 후 - [서비스 정보] - 참고문서\n",
        "- 문서에 대한 명세서 확인 "
      ],
      "metadata": {
        "id": "GK8s7B4AmRUZ"
      }
    },
    {
      "cell_type": "code",
      "execution_count": null,
      "metadata": {
        "id": "XonHxUhelmk5"
      },
      "outputs": [],
      "source": [
        "import requests\n",
        "\n",
        "url = 'http://openapi.epost.go.kr/postal/retrieveNewAdressAreaCdService/retrieveNewAdressAreaCdService/getNewAddressListAreaCd'\n",
        "\n",
        "# 일반 인증키(Decoding)\n",
        "API_key = '개인 인증키 번호'"
      ]
    },
    {
      "cell_type": "code",
      "source": [
        "searchSe = 'road'\n",
        "\n",
        "# 먹어보고싶은 라호짬뽕 주소\n",
        "srchwrd = '마린시티1로 137'\n",
        "\n",
        "paramt = {\n",
        "    'ServiceKey' : API_key,\n",
        "    'searchSe' : search_Se,\n",
        "    'srchwrd' : srchwrd\n",
        "}\n",
        "\n",
        "r = requests.get(url, params=paramt)\n",
        "r.text"
      ],
      "metadata": {
        "colab": {
          "base_uri": "https://localhost:8080/",
          "height": 72
        },
        "id": "YlnFD-31razm",
        "outputId": "64700b79-84e8-4f71-c044-29966449ebfa"
      },
      "execution_count": null,
      "outputs": [
        {
          "output_type": "execute_result",
          "data": {
            "text/plain": [
              "'<?xml version=\"1.0\" encoding=\"UTF-8\" standalone=\"yes\"?><NewAddressListResponse><cmmMsgHeader><requestMsgId></requestMsgId><responseMsgId></responseMsgId><responseTime>20220823:21404079</responseTime><successYN>Y</successYN><returnCode>00</returnCode><errMsg></errMsg><totalCount>1</totalCount><countPerPage>10</countPerPage><totalPage>1</totalPage><currentPage></currentPage></cmmMsgHeader><newAddressListAreaCd><zipNo>48118</zipNo><lnmAdres>부산광역시 해운대구 마린시티1로 137 (우동, 대우월드마크해운대)</lnmAdres><rnAdres>부산광역시 해운대구 우동 1435-2 대우월드마크해운대</rnAdres></newAddressListAreaCd></NewAddressListResponse>'"
            ],
            "application/vnd.google.colaboratory.intrinsic+json": {
              "type": "string"
            }
          },
          "metadata": {},
          "execution_count": 10
        }
      ]
    },
    {
      "cell_type": "code",
      "source": [
        "# XML 데이터를 딕셔너리 데이터로 변환\n",
        "# pip install xmltodict\n",
        "# 설치 후\n",
        "import xmltodict"
      ],
      "metadata": {
        "id": "ncLxpMC6sqZa"
      },
      "execution_count": null,
      "outputs": []
    },
    {
      "cell_type": "code",
      "source": [
        "dict_data = xmltodict.parse(r.text)\n",
        "dict_data"
      ],
      "metadata": {
        "colab": {
          "base_uri": "https://localhost:8080/"
        },
        "id": "be3RXDxyuRSW",
        "outputId": "d14c8633-a1d7-490f-d432-0eec50d4d0c6"
      },
      "execution_count": null,
      "outputs": [
        {
          "output_type": "execute_result",
          "data": {
            "text/plain": [
              "{'NewAddressListResponse': {'cmmMsgHeader': {'requestMsgId': None,\n",
              "   'responseMsgId': None,\n",
              "   'responseTime': '20220823:21404079',\n",
              "   'successYN': 'Y',\n",
              "   'returnCode': '00',\n",
              "   'errMsg': None,\n",
              "   'totalCount': '1',\n",
              "   'countPerPage': '10',\n",
              "   'totalPage': '1',\n",
              "   'currentPage': None},\n",
              "  'newAddressListAreaCd': {'zipNo': '48118',\n",
              "   'lnmAdres': '부산광역시 해운대구 마린시티1로 137 (우동, 대우월드마크해운대)',\n",
              "   'rnAdres': '부산광역시 해운대구 우동 1435-2 대우월드마크해운대'}}}"
            ]
          },
          "metadata": {},
          "execution_count": 14
        }
      ]
    },
    {
      "cell_type": "code",
      "source": [
        "# 도로명 주소와 지번주소 추출\n",
        "adr_list = dict_data['NewAddressListResponse']['newAddressListAreaCd']\n",
        "\n",
        "print(f'입력한 도로명 주소  : {srchwrd}')\n",
        "print(f'응답 데이터 결과')\n",
        "print(f'- 우편번호 : {adr_list[\"zipNo\"]}')\n",
        "print(f'- 도로명주소 : {adr_list[\"lnmAdres\"]}')\n",
        "print(f'- 지번주소 : {adr_list[\"rnAdres\"]}')\n",
        "\n",
        "print('----------------------')\n",
        "adr_list"
      ],
      "metadata": {
        "colab": {
          "base_uri": "https://localhost:8080/"
        },
        "id": "5RCZQnIwuXRl",
        "outputId": "3c993a12-f8bf-4c8d-96a9-6b31fce91be8"
      },
      "execution_count": null,
      "outputs": [
        {
          "output_type": "stream",
          "name": "stdout",
          "text": [
            "입력한 도로명 주소  : 마린시티1로 137\n",
            "응답 데이터 결과\n",
            "- 우편번호 : 48118\n",
            "- 도로명주소 : 부산광역시 해운대구 마린시티1로 137 (우동, 대우월드마크해운대)\n",
            "- 지번주소 : 부산광역시 해운대구 우동 1435-2 대우월드마크해운대\n",
            "----------------------\n"
          ]
        },
        {
          "output_type": "execute_result",
          "data": {
            "text/plain": [
              "{'zipNo': '48118',\n",
              " 'lnmAdres': '부산광역시 해운대구 마린시티1로 137 (우동, 대우월드마크해운대)',\n",
              " 'rnAdres': '부산광역시 해운대구 우동 1435-2 대우월드마크해운대'}"
            ]
          },
          "metadata": {},
          "execution_count": 30
        }
      ]
    },
    {
      "cell_type": "code",
      "source": [],
      "metadata": {
        "id": "tjOY7JenBc-6"
      },
      "execution_count": null,
      "outputs": []
    }
  ]
}
